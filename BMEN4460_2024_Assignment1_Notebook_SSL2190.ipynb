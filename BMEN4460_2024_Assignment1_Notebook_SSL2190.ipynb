{
 "cells": [
  {
   "cell_type": "markdown",
   "metadata": {
    "id": "nRC_KOusJUYH"
   },
   "source": [
    "## Sarah Liu: SSL2190"
   ]
  },
  {
   "cell_type": "markdown",
   "metadata": {
    "id": "XiF661CZJUYK"
   },
   "source": [
    "# Deep Learning In Biomedical Imaging\n",
    "## BMENE4460-2024-1\n",
    "\n",
    "### <span style=\"color:red\">Assignment 1</span> - Machine Learning basics\n",
    "\n",
    "#### Due date/time: <span style=\"color:red\">February 16, 11:59 pm (EST)</span>\n",
    "\n",
    "#### Instructions:\n",
    "1. You may use any publicly available resources to answer the questions, but you need to ***cite*** them properly to prevent plagiarism.\n",
    "2. Using or copying other students' solutions is considered cheating, and you'll be graded **\"0\" for the entire assignment**.\n",
    "3. You may be asked to write Python code or to explain something in each question. To write your answers, please use code and markdown blocks, respectively. If you need to better organize your answers, you may add more blocks. In this notebook, we placed a code block with a comment as `# [Your code here]` and a markdown block with the text \"<span style=\"color:red\">Your answer here</span>\" for each question that needs them. If you wish to answer, please remove the comments first.\n",
    "4. Please ***use comments at the beginning of each code blocks*** to explain what you've implemented in that block.\n",
    "5. Please ***use LaTex formatting to write equations and formulas*** in markdown blocks wherever is needed.\n",
    "6. Please define your variables with ***short and meaningful names***.\n",
    "7. For this assignment, you ***do not need GPU access***.\n",
    "8. Please ensure you have internet access, otherwise the figure may not be displayed.\n",
    "9. Q2 requires access to a public dataset, you can either import the downloaded notebook to Kaggle for data access; or you can download data (it is just a spreadsheet) to your local computer. See Q2 for details.\n",
    "10. To import notebook into Kaggle, just simply go to https://www.kaggle.com/code, click 'New Notebook', and in the upper left, click 'File' and select 'Import Notebook'. If you finish your notebook on Kaggle, remember to download the notebook (File-> Download Notebook) and submit it to the Courseworks. If you are not familiar with Kaggle, <span style=\"color:red\">see appendix in the PDF file for details</span>.\n",
    "\n",
    "\n",
    "#### How to submit:\n",
    "Once you finish the assignment, remember to <span style=\"color:red\">\"Run All\"</span>. Ensure your outputs are appropriately displayed prior to submission!\n",
    "\n",
    "Submission:\n",
    "1. Rename the notebook as \"BMEN4460_2024_Assignment1_Notebook_{YourUNI}\" (Replace \"{YourUNI}\" with your UNI!).\n",
    "2. Submit to Courseworks. \n",
    "\n",
    "**Acknowledgment:**\n",
    "Soroush Arabshahi sa3617@columbia.edu"
   ]
  },
  {
   "cell_type": "code",
   "execution_count": 39,
   "metadata": {
    "id": "lA6Qgv9gJUYL"
   },
   "outputs": [],
   "source": [
    "# Run this cell to import needed libraries\n",
    "import pandas as pd\n",
    "import numpy as np\n",
    "import matplotlib.pyplot as plt\n",
    "import seaborn as sns\n",
    "\n",
    "# Set the random seed for reproducebility\n",
    "np.random.seed(4460)"
   ]
  },
  {
   "cell_type": "markdown",
   "metadata": {
    "id": "mL67pNXpJUYM"
   },
   "source": [
    "#### <span style=\"color:red\">(15 pts.) Q1. </span> Linear Regression"
   ]
  },
  {
   "cell_type": "markdown",
   "metadata": {
    "id": "UaDpCt2bJUYM"
   },
   "source": [
    "##### Define the following variables:\n",
    "$$\n",
    "N = 100 \\\\\n",
    "a = 2 \\\\\n",
    "b = -1\n",
    "$$"
   ]
  },
  {
   "cell_type": "code",
   "execution_count": 61,
   "metadata": {
    "id": "nZ2fPAxiJUYN"
   },
   "outputs": [],
   "source": [
    "# Defining variables\n",
    "N = 100\n",
    "a = 2\n",
    "b = -1"
   ]
  },
  {
   "cell_type": "markdown",
   "metadata": {
    "id": "9JPf2XoiJUYN"
   },
   "source": [
    "##### Using [`np.random.uniform`](https://numpy.org/doc/stable/reference/random/generated/numpy.random.uniform.html) function, create a random variable that vary between $[-10, 10)$ with the size of $N$, and name it `x`.\n",
    "##### Similarly use [`np.random.randn`](https://numpy.org/doc/stable/reference/random/generated/numpy.random.randn.html) function to create `n` as the Gaussian noise with the same size $N$."
   ]
  },
  {
   "cell_type": "code",
   "execution_count": 62,
   "metadata": {
    "id": "vB6EHZahJUYN"
   },
   "outputs": [],
   "source": [
    "# Creating random uniform distribution and Gaussain noise\n",
    "x = np.random.uniform(-10, 10, N)\n",
    "n = np.random.randn(N)"
   ]
  },
  {
   "cell_type": "markdown",
   "metadata": {
    "id": "mGSw_OdwJUYO"
   },
   "source": [
    "##### Now define `y` as:\n",
    "$$\n",
    "y = ax+b+n\n",
    "$$"
   ]
  },
  {
   "cell_type": "code",
   "execution_count": 63,
   "metadata": {
    "id": "PP4qaGLrJUYO"
   },
   "outputs": [],
   "source": [
    "# Defining y\n",
    "y = a*x + b + n"
   ]
  },
  {
   "cell_type": "markdown",
   "metadata": {
    "id": "P36z_kVfJUYO"
   },
   "source": [
    "##### Print the shape of `x`, and `y`."
   ]
  },
  {
   "cell_type": "code",
   "execution_count": 64,
   "metadata": {
    "id": "47mIQEmFJUYP"
   },
   "outputs": [
    {
     "name": "stdout",
     "output_type": "stream",
     "text": [
      "(100,) (100,)\n"
     ]
    }
   ],
   "source": [
    "# Shapes of x and y\n",
    "print(y.shape, x.shape)"
   ]
  },
  {
   "cell_type": "markdown",
   "metadata": {
    "id": "zav8ixTrJUYP"
   },
   "source": [
    "##### Now using [`np.vstack`](https://numpy.org/doc/stable/reference/generated/numpy.vstack.html) and [`np.ones_like`](https://numpy.org/doc/stable/reference/generated/numpy.ones_like.html) functions, concatante a column of ones to`x`. Then name the new variable as `x_b` and print its shape. The `x_b` should look like as below:\n",
    "$$\n",
    "x = \\begin{bmatrix} x^{(1)} \\\\ x^{(2)} \\\\ \\vdots \\\\ x^{(100)} \\end{bmatrix}   \\rightarrow x_{b} = \\begin{bmatrix} 1 & x^{(1)} \\\\ 1 & x^{(2)} \\\\ \\vdots & \\vdots \\\\ 1 & x^{(100)} \\end{bmatrix}\n",
    "$$\n",
    "\n",
    "Note: Be mindful of rows and columns. If the `x_b.shape` is not `(100,2)`, use `.T` (like `x_b = x_b.T`) to transpose the design matrix into right shape."
   ]
  },
  {
   "cell_type": "code",
   "execution_count": 65,
   "metadata": {
    "id": "ceu7wROYJUYP"
   },
   "outputs": [],
   "source": [
    "# Adding column of ones to x\n",
    "ones = np.ones_like(x)\n",
    "x_b = np.vstack((ones, x)).T "
   ]
  },
  {
   "cell_type": "markdown",
   "metadata": {
    "id": "4T7cDxl_JUYP"
   },
   "source": [
    "##### Now that the desired matrix is created, use [`np.linalg.inv`](https://numpy.org/doc/stable/reference/generated/numpy.lingalg.inv.html), `.T`, and `@` functions and operators to compute $\\beta$ values. Assign the result to `beta` variable and print the `beta`.\n",
    "\n",
    "Reminder: In linear regression we assume $Y=X\\beta$.\n",
    "\n",
    "Note: `@` operator computes matrix dot product."
   ]
  },
  {
   "cell_type": "code",
   "execution_count": 66,
   "metadata": {
    "id": "2RVU0fP2JUYQ"
   },
   "outputs": [
    {
     "data": {
      "text/plain": [
       "array([-0.96367674,  2.00538072])"
      ]
     },
     "execution_count": 66,
     "metadata": {},
     "output_type": "execute_result"
    }
   ],
   "source": [
    "# Computing beta values\n",
    "\n",
    "beta = np.linalg.inv(x_b.T @ x_b) @ x_b.T @ y\n",
    "beta"
   ]
  },
  {
   "cell_type": "markdown",
   "metadata": {
    "id": "NbJsmpDtJUYQ"
   },
   "source": [
    "##### How accurately did we estimate the slope ($a$) and the intercept ($b$)?"
   ]
  },
  {
   "cell_type": "markdown",
   "metadata": {
    "id": "-kMiFxqWJUYQ"
   },
   "source": [
    "<span style=\"color:red\">The estimate is quite close. We extimated a slope of 1.99, which is quite close to the real slope of a = 2, and an intercept of -1.07, which is also quite close to the real intercept at -1.</span>"
   ]
  },
  {
   "cell_type": "markdown",
   "metadata": {
    "id": "MoqjEpuiJUYQ"
   },
   "source": [
    "##### Multiply `x_b` by `beta` and assign the result to `y_hat`. Then print the `y_hat`.\n",
    "$$\n",
    "\\hat{y} = x_b\\beta\n",
    "$$"
   ]
  },
  {
   "cell_type": "code",
   "execution_count": 67,
   "metadata": {
    "id": "-JKM54MZJUYQ"
   },
   "outputs": [
    {
     "data": {
      "text/plain": [
       "array([-12.29878332, -17.87942693, -13.23082394,   7.43299265,\n",
       "         0.68148308,  10.98081624, -12.8883854 ,   0.72346948,\n",
       "       -14.04924214, -20.68291719,  16.57227877, -20.9042905 ,\n",
       "        -9.25384456,  -6.83177584, -15.03033794,  18.64682245,\n",
       "         0.6470135 , -10.89152508,  -1.01477388,   8.54317354,\n",
       "       -19.36878291,  -2.49512783,  15.9658223 ,  12.84523785,\n",
       "        17.03388221,  -1.82597414,   2.61324834,   2.94948201,\n",
       "        -0.2574188 ,   4.16509134,  11.52412049,  10.44895881,\n",
       "        12.85492623,  10.20392413,  -1.55422489,  17.82482608,\n",
       "        10.84012228,   7.65722527,   2.33360386,  17.55101721,\n",
       "        -6.36362676,  -3.65007085,  14.57582646,  15.4291404 ,\n",
       "         6.71463243,   7.3195365 ,  -9.69981751,  -1.13926542,\n",
       "         0.19355685, -18.09562515,   4.58704198,  -8.31431219,\n",
       "        13.88982259,   0.75764434,  -8.89633585, -18.79249565,\n",
       "       -11.30056707,   3.74751563,  -6.63207793,  -6.28260873,\n",
       "         0.07670204, -18.60059014,   9.20363793, -12.90389074,\n",
       "        -6.74822993,  -6.14511931,  -7.53066124,   3.61047419,\n",
       "        -9.6084518 , -13.07183009,  14.76777876,   2.80424676,\n",
       "         7.60026008,  12.06822923,   6.97249722,  18.83822534,\n",
       "        -6.75674994,  -0.34564537,  -9.15085697,  -3.55914877,\n",
       "        10.12830065,  -1.34721037, -15.19599253,  -5.17582011,\n",
       "         4.49306883,   8.39342501,  -0.2174859 ,  -1.70869154,\n",
       "         7.44767883,  -0.70187375,  -4.13675678, -18.80457285,\n",
       "       -20.85586482,   7.32095877,  13.09330425,  -7.96581823,\n",
       "         4.40959646,   7.11004468,  15.68040193,  -1.05451118])"
      ]
     },
     "execution_count": 67,
     "metadata": {},
     "output_type": "execute_result"
    }
   ],
   "source": [
    "# Calculating projected y values\n",
    "y_hat = x_b @ beta\n",
    "y_hat"
   ]
  },
  {
   "cell_type": "markdown",
   "metadata": {
    "id": "ncAzhal7JUYR"
   },
   "source": [
    "##### Using [`plt.scatter`](https://matplotlib.org/stable/api/_as_gen/matplotlib.pyplot.scatter.html) plot `x` and `y` and overlay it with the scatter plot of `x` and `y_hat`.\n",
    "\n",
    "What you should expect:\n",
    "<div align=\"center\"><img src=\"https://github.com/soroush361/AoE_BME/blob/main/AS1_Q1_F1.png?raw=true\" /></div>"
   ]
  },
  {
   "cell_type": "code",
   "execution_count": 68,
   "metadata": {
    "id": "9xBfjQICJUYR"
   },
   "outputs": [
    {
     "data": {
      "text/plain": [
       "<matplotlib.legend.Legend at 0x7fd4f849e100>"
      ]
     },
     "execution_count": 68,
     "metadata": {},
     "output_type": "execute_result"
    },
    {
     "data": {
      "image/png": "[encoded data removed]",
      "text/plain": [
       "<Figure size 432x288 with 1 Axes>"
      ]
     },
     "metadata": {
      "needs_background": "light"
     },
     "output_type": "display_data"
    }
   ],
   "source": [
    "# Plotting projected y values with real y values\n",
    "plt.scatter(x, y)\n",
    "plt.scatter(x, y_hat)\n",
    "plt.title(\"Linear Regression\")\n",
    "plt.xlabel(\"x\")\n",
    "plt.ylabel(\"y\")\n",
    "plt.legend([\"Actual Data\",\"Predicted Data\"])"
   ]
  },
  {
   "cell_type": "markdown",
   "metadata": {
    "id": "Wdf2602PJUYR"
   },
   "source": [
    "##### Now try to solve this synthetic regression problem using [`LinearRegression`](https://scikit-learn.org/stable/modules/generated/sklearn.linear_model.LinearRegression.html) model of the [`sklearn`](https://scikit-learn.org/stable/index.html) package. Then compare the results.\n",
    "\n",
    "Note: Don't forget to import the package.\n",
    "\n",
    "A comprehensive example: https://stackabuse.com/linear-regression-in-python-with-scikit-learn/\n",
    "\n",
    "What you should expect:\n",
    "<div align=\"center\"><img src=\"https://github.com/soroush361/AoE_BME/blob/main/AS1_Q1_F2.png?raw=true\" /></div>"
   ]
  },
  {
   "cell_type": "code",
   "execution_count": 69,
   "metadata": {
    "id": "cT6dtQfCJUYR"
   },
   "outputs": [],
   "source": [
    "# importing sklearn\n",
    "import sklearn.linear_model as sk1"
   ]
  },
  {
   "cell_type": "code",
   "execution_count": 70,
   "metadata": {
    "id": "hK-gn01GJUYR"
   },
   "outputs": [
    {
     "name": "stdout",
     "output_type": "stream",
     "text": [
      "[-0.96367674]\n",
      "[[2.00538072]]\n"
     ]
    }
   ],
   "source": [
    "# Creating regression model\n",
    "regressor = sk1.LinearRegression()\n",
    "regressor.fit(x.reshape(-1,1), y.reshape(-1,1))\n",
    "print(regressor.intercept_)\n",
    "print(regressor.coef_)"
   ]
  },
  {
   "cell_type": "code",
   "execution_count": 71,
   "metadata": {},
   "outputs": [
    {
     "data": {
      "text/plain": [
       "<matplotlib.legend.Legend at 0x7fd4d805a3a0>"
      ]
     },
     "execution_count": 71,
     "metadata": {},
     "output_type": "execute_result"
    },
    {
     "data": {
      "image/png": "[encoded data removed]",
      "text/plain": [
       "<Figure size 432x288 with 1 Axes>"
      ]
     },
     "metadata": {
      "needs_background": "light"
     },
     "output_type": "display_data"
    }
   ],
   "source": [
    "# Plotting sklearn projected y values with real y values\n",
    "y_sk = x*regressor.coef_ + regressor.intercept_\n",
    "\n",
    "plt.scatter(x, y)\n",
    "plt.scatter(x, y_sk)\n",
    "plt.title(\"Linear Regression\")\n",
    "plt.xlabel(\"x\")\n",
    "plt.ylabel(\"y\")\n",
    "plt.legend([\"Actual Data\",\"Predicted Data (sklearn)\"])"
   ]
  },
  {
   "cell_type": "markdown",
   "metadata": {
    "id": "P18bnX3IJUYR"
   },
   "source": [
    "<span style=\"color:red\">The sklearn regression package produced the same results as the initial regression. They both calculated an intercept of -1.07 and a slope of 1.99 based on the inputted data. </span>"
   ]
  },
  {
   "cell_type": "markdown",
   "metadata": {
    "id": "k5lBuhzCJUYS"
   },
   "source": [
    "#### <span style=\"color:red\">(15 pts.) Q2. </span> Classification "
   ]
  },
  {
   "cell_type": "markdown",
   "metadata": {
    "id": "y7V1Lv2lJUYS"
   },
   "source": [
    "In this question, we will try to classify the heart attack risk based on 13 features (e.g., age, sex, number of major vessels, chest pain, etc). The detailed introduction can be found at https://www.kaggle.com/rashikrahmanpritom/heart-attack-analysis-prediction-dataset.\n",
    "\n",
    "To start, you should **first add the dataset to this notebook**. Click +Add Data on the top right and search for 'Heart Attack Analysis & Prediction Dataset', then click Add. \n",
    "\n",
    "The path of added dataset is under: **../input/**\n",
    "\n",
    "You will need to use pandas, sklearn, and matplotlib packages. "
   ]
  },
  {
   "cell_type": "markdown",
   "metadata": {
    "id": "DLY_jxbSJUYS"
   },
   "source": [
    "Q2.a: Load the .csv file (heart.csv) using Pandas package, print the dataset and its shape:"
   ]
  },
  {
   "cell_type": "code",
   "execution_count": 51,
   "metadata": {
    "id": "OtR5liwyJUYS"
   },
   "outputs": [
    {
     "data": {
      "text/html": [
       "<div>\n",
       "<style scoped>\n",
       "    .dataframe tbody tr th:only-of-type {\n",
       "        vertical-align: middle;\n",
       "    }\n",
       "\n",
       "    .dataframe tbody tr th {\n",
       "        vertical-align: top;\n",
       "    }\n",
       "\n",
       "    .dataframe thead th {\n",
       "        text-align: right;\n",
       "    }\n",
       "</style>\n",
       "<table border=\"1\" class=\"dataframe\">\n",
       "  <thead>\n",
       "    <tr style=\"text-align: right;\">\n",
       "      <th></th>\n",
       "      <th>age</th>\n",
       "      <th>sex</th>\n",
       "      <th>cp</th>\n",
       "      <th>trtbps</th>\n",
       "      <th>chol</th>\n",
       "      <th>fbs</th>\n",
       "      <th>restecg</th>\n",
       "      <th>thalachh</th>\n",
       "      <th>exng</th>\n",
       "      <th>oldpeak</th>\n",
       "      <th>slp</th>\n",
       "      <th>caa</th>\n",
       "      <th>thall</th>\n",
       "      <th>output</th>\n",
       "    </tr>\n",
       "  </thead>\n",
       "  <tbody>\n",
       "    <tr>\n",
       "      <th>0</th>\n",
       "      <td>63</td>\n",
       "      <td>1</td>\n",
       "      <td>3</td>\n",
       "      <td>145</td>\n",
       "      <td>233</td>\n",
       "      <td>1</td>\n",
       "      <td>0</td>\n",
       "      <td>150</td>\n",
       "      <td>0</td>\n",
       "      <td>2.3</td>\n",
       "      <td>0</td>\n",
       "      <td>0</td>\n",
       "      <td>1</td>\n",
       "      <td>1</td>\n",
       "    </tr>\n",
       "    <tr>\n",
       "      <th>1</th>\n",
       "      <td>37</td>\n",
       "      <td>1</td>\n",
       "      <td>2</td>\n",
       "      <td>130</td>\n",
       "      <td>250</td>\n",
       "      <td>0</td>\n",
       "      <td>1</td>\n",
       "      <td>187</td>\n",
       "      <td>0</td>\n",
       "      <td>3.5</td>\n",
       "      <td>0</td>\n",
       "      <td>0</td>\n",
       "      <td>2</td>\n",
       "      <td>1</td>\n",
       "    </tr>\n",
       "    <tr>\n",
       "      <th>2</th>\n",
       "      <td>41</td>\n",
       "      <td>0</td>\n",
       "      <td>1</td>\n",
       "      <td>130</td>\n",
       "      <td>204</td>\n",
       "      <td>0</td>\n",
       "      <td>0</td>\n",
       "      <td>172</td>\n",
       "      <td>0</td>\n",
       "      <td>1.4</td>\n",
       "      <td>2</td>\n",
       "      <td>0</td>\n",
       "      <td>2</td>\n",
       "      <td>1</td>\n",
       "    </tr>\n",
       "    <tr>\n",
       "      <th>3</th>\n",
       "      <td>56</td>\n",
       "      <td>1</td>\n",
       "      <td>1</td>\n",
       "      <td>120</td>\n",
       "      <td>236</td>\n",
       "      <td>0</td>\n",
       "      <td>1</td>\n",
       "      <td>178</td>\n",
       "      <td>0</td>\n",
       "      <td>0.8</td>\n",
       "      <td>2</td>\n",
       "      <td>0</td>\n",
       "      <td>2</td>\n",
       "      <td>1</td>\n",
       "    </tr>\n",
       "    <tr>\n",
       "      <th>4</th>\n",
       "      <td>57</td>\n",
       "      <td>0</td>\n",
       "      <td>0</td>\n",
       "      <td>120</td>\n",
       "      <td>354</td>\n",
       "      <td>0</td>\n",
       "      <td>1</td>\n",
       "      <td>163</td>\n",
       "      <td>1</td>\n",
       "      <td>0.6</td>\n",
       "      <td>2</td>\n",
       "      <td>0</td>\n",
       "      <td>2</td>\n",
       "      <td>1</td>\n",
       "    </tr>\n",
       "    <tr>\n",
       "      <th>...</th>\n",
       "      <td>...</td>\n",
       "      <td>...</td>\n",
       "      <td>...</td>\n",
       "      <td>...</td>\n",
       "      <td>...</td>\n",
       "      <td>...</td>\n",
       "      <td>...</td>\n",
       "      <td>...</td>\n",
       "      <td>...</td>\n",
       "      <td>...</td>\n",
       "      <td>...</td>\n",
       "      <td>...</td>\n",
       "      <td>...</td>\n",
       "      <td>...</td>\n",
       "    </tr>\n",
       "    <tr>\n",
       "      <th>298</th>\n",
       "      <td>57</td>\n",
       "      <td>0</td>\n",
       "      <td>0</td>\n",
       "      <td>140</td>\n",
       "      <td>241</td>\n",
       "      <td>0</td>\n",
       "      <td>1</td>\n",
       "      <td>123</td>\n",
       "      <td>1</td>\n",
       "      <td>0.2</td>\n",
       "      <td>1</td>\n",
       "      <td>0</td>\n",
       "      <td>3</td>\n",
       "      <td>0</td>\n",
       "    </tr>\n",
       "    <tr>\n",
       "      <th>299</th>\n",
       "      <td>45</td>\n",
       "      <td>1</td>\n",
       "      <td>3</td>\n",
       "      <td>110</td>\n",
       "      <td>264</td>\n",
       "      <td>0</td>\n",
       "      <td>1</td>\n",
       "      <td>132</td>\n",
       "      <td>0</td>\n",
       "      <td>1.2</td>\n",
       "      <td>1</td>\n",
       "      <td>0</td>\n",
       "      <td>3</td>\n",
       "      <td>0</td>\n",
       "    </tr>\n",
       "    <tr>\n",
       "      <th>300</th>\n",
       "      <td>68</td>\n",
       "      <td>1</td>\n",
       "      <td>0</td>\n",
       "      <td>144</td>\n",
       "      <td>193</td>\n",
       "      <td>1</td>\n",
       "      <td>1</td>\n",
       "      <td>141</td>\n",
       "      <td>0</td>\n",
       "      <td>3.4</td>\n",
       "      <td>1</td>\n",
       "      <td>2</td>\n",
       "      <td>3</td>\n",
       "      <td>0</td>\n",
       "    </tr>\n",
       "    <tr>\n",
       "      <th>301</th>\n",
       "      <td>57</td>\n",
       "      <td>1</td>\n",
       "      <td>0</td>\n",
       "      <td>130</td>\n",
       "      <td>131</td>\n",
       "      <td>0</td>\n",
       "      <td>1</td>\n",
       "      <td>115</td>\n",
       "      <td>1</td>\n",
       "      <td>1.2</td>\n",
       "      <td>1</td>\n",
       "      <td>1</td>\n",
       "      <td>3</td>\n",
       "      <td>0</td>\n",
       "    </tr>\n",
       "    <tr>\n",
       "      <th>302</th>\n",
       "      <td>57</td>\n",
       "      <td>0</td>\n",
       "      <td>1</td>\n",
       "      <td>130</td>\n",
       "      <td>236</td>\n",
       "      <td>0</td>\n",
       "      <td>0</td>\n",
       "      <td>174</td>\n",
       "      <td>0</td>\n",
       "      <td>0.0</td>\n",
       "      <td>1</td>\n",
       "      <td>1</td>\n",
       "      <td>2</td>\n",
       "      <td>0</td>\n",
       "    </tr>\n",
       "  </tbody>\n",
       "</table>\n",
       "<p>303 rows × 14 columns</p>\n",
       "</div>"
      ],
      "text/plain": [
       "     age  sex  cp  trtbps  chol  fbs  restecg  thalachh  exng  oldpeak  slp  \\\n",
       "0     63    1   3     145   233    1        0       150     0      2.3    0   \n",
       "1     37    1   2     130   250    0        1       187     0      3.5    0   \n",
       "2     41    0   1     130   204    0        0       172     0      1.4    2   \n",
       "3     56    1   1     120   236    0        1       178     0      0.8    2   \n",
       "4     57    0   0     120   354    0        1       163     1      0.6    2   \n",
       "..   ...  ...  ..     ...   ...  ...      ...       ...   ...      ...  ...   \n",
       "298   57    0   0     140   241    0        1       123     1      0.2    1   \n",
       "299   45    1   3     110   264    0        1       132     0      1.2    1   \n",
       "300   68    1   0     144   193    1        1       141     0      3.4    1   \n",
       "301   57    1   0     130   131    0        1       115     1      1.2    1   \n",
       "302   57    0   1     130   236    0        0       174     0      0.0    1   \n",
       "\n",
       "     caa  thall  output  \n",
       "0      0      1       1  \n",
       "1      0      2       1  \n",
       "2      0      2       1  \n",
       "3      0      2       1  \n",
       "4      0      2       1  \n",
       "..   ...    ...     ...  \n",
       "298    0      3       0  \n",
       "299    0      3       0  \n",
       "300    2      3       0  \n",
       "301    1      3       0  \n",
       "302    1      2       0  \n",
       "\n",
       "[303 rows x 14 columns]"
      ]
     },
     "execution_count": 51,
     "metadata": {},
     "output_type": "execute_result"
    }
   ],
   "source": [
    "# importing heart data\n",
    "data = pd.read_csv(\"archive/heart.csv\")\n",
    "data"
   ]
  },
  {
   "cell_type": "code",
   "execution_count": 52,
   "metadata": {},
   "outputs": [
    {
     "data": {
      "text/plain": [
       "(303, 14)"
      ]
     },
     "execution_count": 52,
     "metadata": {},
     "output_type": "execute_result"
    }
   ],
   "source": [
    "# shape of imported dataframe\n",
    "data.shape"
   ]
  },
  {
   "cell_type": "markdown",
   "metadata": {
    "id": "qsDWUZALJUYS"
   },
   "source": [
    "Q2.b: Convert the pandas.DataFrame to numpy array and split the dataset into input features **x** and output label **y**. Then split them into training and testing subsets in a ratio of 7:3 using sklearn train_test_split. Set a random state for a reproducible result.\n"
   ]
  },
  {
   "cell_type": "code",
   "execution_count": 72,
   "metadata": {},
   "outputs": [],
   "source": [
    "import sklearn.model_selection as sk2"
   ]
  },
  {
   "cell_type": "code",
   "execution_count": 97,
   "metadata": {
    "id": "qk2ccSfRJUYS"
   },
   "outputs": [],
   "source": [
    "# preprocessing data into training and testing datasets\n",
    "np_data = data.to_numpy()\n",
    "\n",
    "x = np_data[:, 0:13]\n",
    "y = np_data[:, 13]\n",
    "\n",
    "x_train, x_test, y_train, y_test = sk2.train_test_split(x, y, test_size=0.3, random_state=50)"
   ]
  },
  {
   "cell_type": "markdown",
   "metadata": {
    "id": "S14PT02oJUYS"
   },
   "source": [
    "Q2.c: Using the pre-defined kNN class in the sklearn package ([`KNeighborsClassifier`](https://scikit-learn.org/stable/modules/generated/sklearn.neighbors.KNeighborsClassifier.html)), fit the training data and test the model on the testing data\n",
    "\n",
    "Note: Set the `n_neighbors` to 7, which indicates the $K$ in KNN algorithm (The default value is 5)."
   ]
  },
  {
   "cell_type": "code",
   "execution_count": 74,
   "metadata": {},
   "outputs": [],
   "source": [
    "import sklearn.neighbors as sk3"
   ]
  },
  {
   "cell_type": "code",
   "execution_count": 86,
   "metadata": {
    "id": "ksTPl-CBJUYS"
   },
   "outputs": [
    {
     "data": {
      "text/plain": [
       "0.6813186813186813"
      ]
     },
     "execution_count": 86,
     "metadata": {},
     "output_type": "execute_result"
    }
   ],
   "source": [
    "# training classifier using KNN algorithm with 7 neighbors\n",
    "classifier = sk3.KNeighborsClassifier(7)\n",
    "classifier.fit(x_train, y_train)\n",
    "\n",
    "classifier.score(x_test, y_test)"
   ]
  },
  {
   "cell_type": "markdown",
   "metadata": {
    "id": "62tJWX6OJUYT"
   },
   "source": [
    "Q2.d: Plot the confusion matrix. And report the accuracy, precision, and recall scores. Discuss the difference and relationship among these scores. How can you interpret them using the confusion matrix?\n",
    "\n",
    "What you should expect:\n",
    "<div align=\"center\"><img src=\"https://github.com/soroush361/AoE_BME/blob/main/AS1_Q2_F1.png?raw=true\" /></div>"
   ]
  },
  {
   "cell_type": "code",
   "execution_count": 79,
   "metadata": {},
   "outputs": [],
   "source": [
    "import sklearn.metrics as sk4"
   ]
  },
  {
   "cell_type": "code",
   "execution_count": 87,
   "metadata": {
    "id": "wD4A5tBdJUYT"
   },
   "outputs": [
    {
     "data": {
      "text/plain": [
       "Text(0.5, 1.0, 'Confusion Matrix')"
      ]
     },
     "execution_count": 87,
     "metadata": {},
     "output_type": "execute_result"
    },
    {
     "data": {
      "image/png": "[encoded data removed]",
      "text/plain": [
       "<Figure size 432x288 with 2 Axes>"
      ]
     },
     "metadata": {
      "needs_background": "light"
     },
     "output_type": "display_data"
    }
   ],
   "source": [
    "# Visualizing confusion matrix\n",
    "conf_mtx = sk4.confusion_matrix(y_test, classifier.predict(x_test))\n",
    "sns.heatmap(conf_mtx, annot=True)\n",
    "plt.xlabel(\"Prediction\")\n",
    "plt.ylabel(\"Ground truth\")\n",
    "plt.title(\"Confusion Matrix\")"
   ]
  },
  {
   "cell_type": "markdown",
   "metadata": {
    "id": "EiIUHEFOJUYT"
   },
   "source": [
    "<span style=\"color:red\">In the confusion matrix, the predicted values are on the horizontal axis and the actual true values are on the vertical axis. According to our algorithm using KNN, the model predicted \"1\" correctly in about 39% of its total predictions. Additionally, it predicted \"0\" correctly in about 23% of the predictions. According to the confusion matrix, about 29% (13% false negative, 16% false positive) of the predictions were incorrect.</span>"
   ]
  },
  {
   "cell_type": "markdown",
   "metadata": {
    "id": "5Qawa9HzJUYT"
   },
   "source": [
    "Q2.e: The accuracy of kNN Classifier is not very high. Notice that we still stick with raw data by far. Propose a preprocessing technique that may potentially improve classification accuracy.\n",
    "\n",
    "What you should expect:\n",
    "<div align=\"center\"><img src=\"https://github.com/soroush361/AoE_BME/blob/main/AS1_Q2_F2.png?raw=true\" /></div>"
   ]
  },
  {
   "cell_type": "code",
   "execution_count": 148,
   "metadata": {
    "id": "6Q7kFTbVJUYT"
   },
   "outputs": [
    {
     "data": {
      "text/plain": [
       "array([[ 0.9521966 ,  0.68100522,  1.97312292, ..., -2.27457861,\n",
       "        -0.71442887, -2.14887271],\n",
       "       [-1.91531289,  0.68100522,  1.00257707, ..., -2.27457861,\n",
       "        -0.71442887, -0.51292188],\n",
       "       [-1.47415758, -1.46841752,  0.03203122, ...,  0.97635214,\n",
       "        -0.71442887, -0.51292188],\n",
       "       ...,\n",
       "       [ 1.50364073,  0.68100522, -0.93851463, ..., -0.64911323,\n",
       "         1.24459328,  1.12302895],\n",
       "       [ 0.29046364,  0.68100522, -0.93851463, ..., -0.64911323,\n",
       "         0.26508221,  1.12302895],\n",
       "       [ 0.29046364, -1.46841752,  0.03203122, ..., -0.64911323,\n",
       "         0.26508221, -0.51292188]])"
      ]
     },
     "execution_count": 148,
     "metadata": {},
     "output_type": "execute_result"
    }
   ],
   "source": [
    "# Normalizing data\n",
    "norm_x = np.zeros((len(x), len(x[0])))\n",
    "\n",
    "for col in range(len(x[0])):\n",
    "    column = x[:,col]\n",
    "    avg = column.sum()/len(np_data)\n",
    "    std_dev = column.std()\n",
    "    norm_x[:,col] = (column-avg)/column.std()\n",
    "\n",
    "norm_x "
   ]
  },
  {
   "cell_type": "code",
   "execution_count": 151,
   "metadata": {},
   "outputs": [
    {
     "data": {
      "text/plain": [
       "0.8241758241758241"
      ]
     },
     "execution_count": 151,
     "metadata": {},
     "output_type": "execute_result"
    }
   ],
   "source": [
    "# Training a new KNN model on the normalized data\n",
    "norm_x_train, norm_x_test, norm_y_train, norm_y_test = sk2.train_test_split(norm_x, y, test_size=0.3, random_state=50)\n",
    "\n",
    "norm_classifier = sk3.KNeighborsClassifier(7)\n",
    "norm_classifier.fit(norm_x_train, norm_y_train)\n",
    "\n",
    "norm_classifier.score(norm_x_test, norm_y_test)"
   ]
  },
  {
   "cell_type": "code",
   "execution_count": 153,
   "metadata": {},
   "outputs": [
    {
     "data": {
      "text/plain": [
       "Text(0.5, 1.0, 'Confusion Matrix')"
      ]
     },
     "execution_count": 153,
     "metadata": {},
     "output_type": "execute_result"
    },
    {
     "data": {
      "image/png": "[encoded data removed]",
      "text/plain": [
       "<Figure size 432x288 with 2 Axes>"
      ]
     },
     "metadata": {
      "needs_background": "light"
     },
     "output_type": "display_data"
    }
   ],
   "source": [
    "# Re-calculating confusion matrix\n",
    "conf_mtx = sk4.confusion_matrix(norm_y_test, norm_classifier.predict(norm_x_test))\n",
    "sns.heatmap(conf_mtx, annot=True)\n",
    "plt.xlabel(\"Prediction\")\n",
    "plt.ylabel(\"Ground truth\")\n",
    "plt.title(\"Confusion Matrix\")"
   ]
  },
  {
   "cell_type": "markdown",
   "metadata": {
    "id": "t17dboHcJUYT"
   },
   "source": [
    "<span style=\"color:red\">By normalizing each of the features around 0 before training the KNN algorithm, the mean accuracy of the model improves considerably, jumping from 68% to 82%. </span>"
   ]
  },
  {
   "cell_type": "markdown",
   "metadata": {
    "id": "vDEJHY-bJUYT"
   },
   "source": [
    "#### <span style=\"color:red\">(15 pts.) Q3. </span> Clustering"
   ]
  },
  {
   "cell_type": "markdown",
   "metadata": {
    "id": "WfHE-uFUJUYU"
   },
   "source": [
    "Using [`np.random.randn`](https://numpy.org/doc/stable/reference/random/generated/numpy.random.randn.html), create the following random variables with a size of $N=100$.\n",
    "$$\n",
    "x_1 \\sim \\mathcal{N}(\\mu=3,\\sigma=2) \\\\\n",
    "y_1 \\sim \\mathcal{N}(\\mu=3,\\sigma=2) \\\\\n",
    "x_2 \\sim \\mathcal{N}(\\mu=-3,\\sigma=2) \\\\\n",
    "y_2 \\sim \\mathcal{N}(\\mu=-3,\\sigma=2) \\\\\n",
    "$$"
   ]
  },
  {
   "cell_type": "code",
   "execution_count": 155,
   "metadata": {
    "id": "6II0V2qSJUYU"
   },
   "outputs": [],
   "source": [
    "# Creating random normal distributions\n",
    "x1 = 3 + 2 * np.random.randn(N)\n",
    "y1 = 3 + 2 * np.random.randn(N)\n",
    "x2 = -3 + 2 * np.random.randn(N)\n",
    "y2 = -3 + 2 * np.random.randn(N)"
   ]
  },
  {
   "cell_type": "markdown",
   "metadata": {
    "id": "wlXWa7X3JUYU"
   },
   "source": [
    "##### Usint Scatter plot of the matplotlib library ([`plt.scatter`](https://matplotlib.org/stable/api/_as_gen/matplotlib.pyplot.scatter.html)), plot $(x_1, y_1)$ and $(x_2, y_2)$ with different colors.\n",
    "\n",
    "What you should expect:\n",
    "<div align=\"center\"><img src=\"https://github.com/soroush361/AoE_BME/blob/main/AS1_Q3_F1.png?raw=true\" /></div>"
   ]
  },
  {
   "cell_type": "code",
   "execution_count": 158,
   "metadata": {
    "id": "k21kNRA3JUYU"
   },
   "outputs": [
    {
     "data": {
      "text/plain": [
       "Text(0.5, 1.0, 'K-Means: True Data')"
      ]
     },
     "execution_count": 158,
     "metadata": {},
     "output_type": "execute_result"
    },
    {
     "data": {
      "image/png": "[encoded data removed]",
      "text/plain": [
       "<Figure size 432x288 with 1 Axes>"
      ]
     },
     "metadata": {
      "needs_background": "light"
     },
     "output_type": "display_data"
    }
   ],
   "source": [
    "# Plotting true clusters\n",
    "plt.scatter(x1, y1)\n",
    "plt.scatter(x2, y2)\n",
    "plt.legend([\"Cluster 1\", \"Cluster 2\"])\n",
    "plt.title(\"K-Means: True Data\")"
   ]
  },
  {
   "cell_type": "markdown",
   "metadata": {
    "id": "PFS3lYYDJUYU"
   },
   "source": [
    "##### As you should see, we have two clusters that we synthetically created.\n",
    "\n",
    "##### Now we want to know how well the k-Means model of the Sklearn module is able to recover the same clusters.\n",
    "\n",
    "##### First, import the [`KMeans`](https://scikit-learn.org/stable/modules/generated/sklearn.cluster.KMeans.html) model from Sklearn library."
   ]
  },
  {
   "cell_type": "code",
   "execution_count": 161,
   "metadata": {
    "id": "ErYSH7IrJUYU"
   },
   "outputs": [],
   "source": [
    "# importing KMeans\n",
    "from sklearn.cluster import KMeans "
   ]
  },
  {
   "cell_type": "markdown",
   "metadata": {
    "id": "69maAysoJUYU"
   },
   "source": [
    "##### Then using [`np.vstack`](https://numpy.org/doc/stable/reference/generated/numpy.vstack.html) and [`np.hstack`](https://numpy.org/doc/stable/reference/generated/numpy.hstack.html) functions, combine all $x_1,y_1,x_2,$ and $y_2$ variables to make a $z$ matrix that should looks like the below:\n",
    "\n",
    "$$\n",
    "z = \\begin{bmatrix} x^{(1)}_1 & y^{(1)}_1 \\\\ x^{(2)}_1 & y^{(2)}_1 \\\\ \\vdots & \\vdots \\\\ x^{(100)}_1 & y^{(100)}_1 \\\\ x^{(1)}_2 & y^{(1)}_2 \\\\ x^{(2)}_2 & y^{(2)}_2 \\\\ \\vdots & \\vdots \\\\ x^{(100)}_2 & y^{(100)}_2  \\end{bmatrix}\n",
    "$$\n",
    "\n",
    "##### Print the shape of $z$ to make sure your design matrix is in right shape. It should be $(200, 2)$. Use `.T` to transpose it, if it is not."
   ]
  },
  {
   "cell_type": "code",
   "execution_count": 215,
   "metadata": {
    "id": "5TlmSqn9JUYV"
   },
   "outputs": [
    {
     "data": {
      "text/plain": [
       "(200, 2)"
      ]
     },
     "execution_count": 215,
     "metadata": {},
     "output_type": "execute_result"
    }
   ],
   "source": [
    "# Creating z matrix from x and y matrices\n",
    "z = np.vstack((np.hstack((x1, x2)), np.hstack((y1, y2)))).T\n",
    "z.shape"
   ]
  },
  {
   "cell_type": "markdown",
   "metadata": {
    "id": "uTxGLmcYJUYV"
   },
   "source": [
    "##### Just to check, make a scatter plot of $(z[:,0], z[:,1])$ to ensure the design matrix (which is given in a real world problem) looks the same as the data we have generated before. The scatter plot must be in the same color.\n",
    "\n",
    "What you should expect:\n",
    "<div align=\"center\"><img src=\"https://github.com/soroush361/AoE_BME/blob/main/AS1_Q3_F2.png?raw=true\" /></div>"
   ]
  },
  {
   "cell_type": "code",
   "execution_count": 173,
   "metadata": {
    "id": "3mbJ2QQ0JUYV"
   },
   "outputs": [
    {
     "data": {
      "text/plain": [
       "<matplotlib.collections.PathCollection at 0x7fd4d8738a00>"
      ]
     },
     "execution_count": 173,
     "metadata": {},
     "output_type": "execute_result"
    },
    {
     "data": {
      "image/png": "[encoded data removed]",
      "text/plain": [
       "<Figure size 432x288 with 1 Axes>"
      ]
     },
     "metadata": {
      "needs_background": "light"
     },
     "output_type": "display_data"
    }
   ],
   "source": [
    "# Checking z matrix with scatter plot\n",
    "plt.scatter(z[:,0], z[:,1])"
   ]
  },
  {
   "cell_type": "markdown",
   "metadata": {
    "id": "zu_1rtKwJUYV"
   },
   "source": [
    "##### Create an instance of the K-Means model with $k=2$ (`n_clusters=2`), call `fit` function to clutsre the `z` matrix."
   ]
  },
  {
   "cell_type": "code",
   "execution_count": 404,
   "metadata": {
    "id": "5S-2E3RMJUYV"
   },
   "outputs": [
    {
     "data": {
      "text/plain": [
       "KMeans(n_clusters=2, random_state=0)"
      ]
     },
     "execution_count": 404,
     "metadata": {},
     "output_type": "execute_result"
    }
   ],
   "source": [
    "# Creating K-Means model to cluster z datapoints\n",
    "kmeans = KMeans(n_clusters=2, random_state=0)\n",
    "kmeans.fit(z)"
   ]
  },
  {
   "cell_type": "markdown",
   "metadata": {
    "id": "51OmtzYXJUYV"
   },
   "source": [
    "##### Now that the KMeans model is fitted, scatter plot the $z$ samples ($(z[:,0], z[:,1])$) and paint them with the labels that the KMeans model returned. (read the reference: [`KMeans`](https://scikit-learn.org/stable/modules/generated/sklearn.cluster.KMeans.html))\n",
    "##### Also, plot the cluster centroids with a different marker and color.\n",
    "\n",
    "What you should expect:\n",
    "<div align=\"center\"><img src=\"https://github.com/soroush361/AoE_BME/blob/main/AS1_Q3_F3.png?raw=true\" /></div>"
   ]
  },
  {
   "cell_type": "code",
   "execution_count": 405,
   "metadata": {},
   "outputs": [],
   "source": [
    "# Get clusters and centroids from KMeans model\n",
    "labels = kmeans.predict(z)\n",
    "centroids  = kmeans.cluster_centers_ \n",
    "\n",
    "data_labels = np.vstack((z.T, labels.T)).T\n",
    "\n",
    "cluster_1 = data_labels[np.where(data_labels[:,2] == 1)]\n",
    "cluster_2 = data_labels[np.where(data_labels[:,2] == 0)]"
   ]
  },
  {
   "cell_type": "code",
   "execution_count": 410,
   "metadata": {
    "id": "kAPVchjfJUYV"
   },
   "outputs": [
    {
     "data": {
      "text/plain": [
       "Text(0.5, 1.0, 'Predicted Clusters with Centroids (K=2)')"
      ]
     },
     "execution_count": 410,
     "metadata": {},
     "output_type": "execute_result"
    },
    {
     "data": {
      "image/png": "[encoded data removed]",
      "text/plain": [
       "<Figure size 432x288 with 1 Axes>"
      ]
     },
     "metadata": {
      "needs_background": "light"
     },
     "output_type": "display_data"
    }
   ],
   "source": [
    "# plot centroids and clusters\n",
    "plt.scatter(cluster_1[:,0], cluster_1[:,1])\n",
    "plt.scatter(cluster_2[:,0], cluster_2[:,1])\n",
    "\n",
    "plt.plot(centroids[1][0], centroids[1][1], color=\"red\", marker=\"s\", markersize=10)\n",
    "plt.plot(centroids[0][0], centroids[0][1], color=\"green\", marker=\"p\", markersize=12)\n",
    "\n",
    "plt.legend([\"Cluster 1\", \"Cluster 2\", \"Centroid 1\", \"Centroid 2\"])\n",
    "plt.title(\"Predicted Clusters with Centroids (K=2)\")"
   ]
  },
  {
   "cell_type": "markdown",
   "metadata": {
    "id": "WHZieZlxJUYV"
   },
   "source": [
    "##### Consider the original distributions, how many samples did the KMeans model clustered incorrectly?"
   ]
  },
  {
   "cell_type": "code",
   "execution_count": 411,
   "metadata": {
    "id": "yWe5MeNgJUYW"
   },
   "outputs": [
    {
     "data": {
      "text/plain": [
       "3"
      ]
     },
     "execution_count": 411,
     "metadata": {},
     "output_type": "execute_result"
    }
   ],
   "source": [
    "# Identifying incorrectly clustered samples\n",
    "correct_labels_1 = np.vstack((x1, y1, np.ones(100)))\n",
    "correct_labels_2 = np.vstack((x2, y2, np.zeros(100)))\n",
    "\n",
    "correct_labels = np.hstack((correct_labels_1, correct_labels_2)).T\n",
    "\n",
    "wrong_labels = data_labels\n",
    "wrong_labels = np.delete(wrong_labels, np.where(wrong_labels[:, 2] == correct_labels[:, 2]), 0)\n",
    "len(wrong_labels)"
   ]
  },
  {
   "cell_type": "markdown",
   "metadata": {},
   "source": [
    "<span style=\"color:red\"> 3 samples were clustered incorrectly. </span>"
   ]
  },
  {
   "cell_type": "markdown",
   "metadata": {
    "id": "_388xcKcJUYW"
   },
   "source": [
    "##### This part does not grant you extra points, but will help you understand better and also if you complete it, it will help your missing points upto 5 points.\n",
    "\n",
    "(Optional) Plot the samples that has been labeled incorrectly."
   ]
  },
  {
   "cell_type": "code",
   "execution_count": 402,
   "metadata": {
    "id": "0FhWqGd9JUYW"
   },
   "outputs": [
    {
     "data": {
      "text/plain": [
       "<matplotlib.legend.Legend at 0x7fd4da3f7a60>"
      ]
     },
     "execution_count": 402,
     "metadata": {},
     "output_type": "execute_result"
    },
    {
     "data": {
      "image/png": "[encoded data removed]",
      "text/plain": [
       "<Figure size 432x288 with 1 Axes>"
      ]
     },
     "metadata": {
      "needs_background": "light"
     },
     "output_type": "display_data"
    }
   ],
   "source": [
    "# plotting incorrectly labeled samples\n",
    "plt.scatter(z[:,0], z[:,1], s=30)\n",
    "plt.scatter(wrong_labels[:,0], wrong_labels[:,1], s=50)\n",
    "\n",
    "plt.xlim(-10, 8)\n",
    "plt.ylim(-8, 10)\n",
    "plt.title(\"Incorrectly Clustered Samples\")\n",
    "plt.legend([\"Correct Samples\", \"Incorrect Samples\"])"
   ]
  },
  {
   "cell_type": "markdown",
   "metadata": {
    "id": "_388xcKcJUYW"
   },
   "source": [
    "(Optional) Repeat the same procedure with $K=4$. How would that change the clustering plot? Briefly explain."
   ]
  },
  {
   "cell_type": "code",
   "execution_count": 412,
   "metadata": {},
   "outputs": [],
   "source": [
    "# Creating new KMeans model with 4 clusters instead of 2\n",
    "kmeans2 = KMeans(n_clusters=4, random_state=0)\n",
    "kmeans2.fit(z)\n",
    "\n",
    "labels2 = kmeans2.predict(z)\n",
    "centroids2  = kmeans2.cluster_centers_ \n",
    "\n",
    "data_labels2 = np.vstack((z.T, labels2.T)).T\n",
    "\n",
    "cluster_4 = data_labels2[np.where(data_labels2[:,2] == 0)]\n",
    "cluster_5 = data_labels2[np.where(data_labels2[:,2] == 1)]\n",
    "cluster_6 = data_labels2[np.where(data_labels2[:,2] == 2)]\n",
    "cluster_7 = data_labels2[np.where(data_labels2[:,2] == 3)]"
   ]
  },
  {
   "cell_type": "code",
   "execution_count": 413,
   "metadata": {},
   "outputs": [
    {
     "data": {
      "text/plain": [
       "Text(0.5, 1.0, 'Predicted Clusters with Centroids (K=4)')"
      ]
     },
     "execution_count": 413,
     "metadata": {},
     "output_type": "execute_result"
    },
    {
     "data": {
      "image/png": "[encoded data removed]",
      "text/plain": [
       "<Figure size 432x288 with 1 Axes>"
      ]
     },
     "metadata": {
      "needs_background": "light"
     },
     "output_type": "display_data"
    }
   ],
   "source": [
    "# plot centroids and clusters\n",
    "plt.scatter(cluster_4[:,0], cluster_4[:,1])\n",
    "plt.scatter(cluster_5[:,0], cluster_5[:,1])\n",
    "plt.scatter(cluster_6[:,0], cluster_6[:,1])\n",
    "plt.scatter(cluster_7[:,0], cluster_7[:,1])\n",
    "\n",
    "plt.plot(centroids2[0][0], centroids2[0][1], color=\"magenta\", marker=\"s\", markersize=12)\n",
    "plt.plot(centroids2[1][0], centroids2[1][1], color=\"blue\", marker=\"s\", markersize=10)\n",
    "plt.plot(centroids2[2][0], centroids2[2][1], color=\"red\", marker=\"s\", markersize=10)\n",
    "plt.plot(centroids2[3][0], centroids2[3][1], color=\"cyan\", marker=\"s\", markersize=10)\n",
    "\n",
    "plt.legend([\"Cluster 1\", \"Cluster 2\", \"Cluster 3\", \"Cluster 4\", \"Centroid 1\", \"Centroid 2\", \"Centroid 3\", \"Centroid 4\"])\n",
    "plt.title(\"Predicted Clusters with Centroids (K=4)\")"
   ]
  },
  {
   "cell_type": "markdown",
   "metadata": {
    "id": "t_r_ifknJUYW"
   },
   "source": [
    "<span style=\"color:red\">Shown by the graph above, there are now four distinct clusters, each with their own centroid. The data, however, does not seem to be a good fit for 4 clusters, just based on visual apprasial.</span>"
   ]
  }
 ],
 "metadata": {
  "colab": {
   "provenance": []
  },
  "kaggle": {
   "accelerator": "none",
   "dataSources": [],
   "dockerImageVersionId": 30646,
   "isGpuEnabled": false,
   "isInternetEnabled": true,
   "language": "python",
   "sourceType": "notebook"
  },
  "kernelspec": {
   "display_name": "Python 3",
   "language": "python",
   "name": "python3"
  },
  "language_info": {
   "codemirror_mode": {
    "name": "ipython",
    "version": 3
   },
   "file_extension": ".py",
   "mimetype": "text/x-python",
   "name": "python",
   "nbconvert_exporter": "python",
   "pygments_lexer": "ipython3",
   "version": "3.8.8"
  }
 },
 "nbformat": 4,
 "nbformat_minor": 4
}
